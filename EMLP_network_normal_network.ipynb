{
 "cells": [
  {
   "cell_type": "code",
   "execution_count": 1,
   "id": "3815dbe3",
   "metadata": {},
   "outputs": [],
   "source": [
    "import torch\n",
    "import emlp.nn.pytorch as nn\n",
    "from emlp.reps import T,V \n",
    "from emlp.groups import Z,SO13\n",
    "import numpy as np\n",
    "from tqdm.auto import tqdm\n",
    "from torch.utils.data import DataLoader\n",
    "from emlp.datasets import ParticleInteraction"
   ]
  },
  {
   "cell_type": "code",
   "execution_count": 3,
   "id": "5484dabf",
   "metadata": {},
   "outputs": [],
   "source": [
    "repin = 13*V\n",
    "repout = 2*V\n",
    "G = Z(4)"
   ]
  },
  {
   "cell_type": "code",
   "execution_count": 4,
   "id": "869fe10e",
   "metadata": {},
   "outputs": [],
   "source": [
    "device = torch.device('cuda' if torch.cuda.is_available() else 'cpu')\n",
    "BS=500\n",
    "lr=3e-3\n",
    "NUM_EPOCHS=50\n",
    "\n",
    "model = nn.EMLP(repin,repout,group=G,num_layers=3,ch=384).to(device)\n",
    "\n",
    "optimizer = torch.optim.Adam(model.parameters(),lr=lr)"
   ]
  },
  {
   "cell_type": "code",
   "execution_count": null,
   "id": "af823447",
   "metadata": {},
   "outputs": [],
   "source": []
  }
 ],
 "metadata": {
  "kernelspec": {
   "display_name": "Python 3 (ipykernel)",
   "language": "python",
   "name": "python3"
  },
  "language_info": {
   "codemirror_mode": {
    "name": "ipython",
    "version": 3
   },
   "file_extension": ".py",
   "mimetype": "text/x-python",
   "name": "python",
   "nbconvert_exporter": "python",
   "pygments_lexer": "ipython3",
   "version": "3.9.13"
  }
 },
 "nbformat": 4,
 "nbformat_minor": 5
}
